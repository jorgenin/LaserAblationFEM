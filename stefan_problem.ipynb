{
 "cells": [
  {
   "cell_type": "markdown",
   "metadata": {},
   "source": [
    "Source for initial: https://notebook.community/geo-fluid-dynamics/phaseflow-fenics/tutorials/FEniCS/03-ConvectionCoupledMelting-MixedElement-AMR\n",
    "geo-fluid-dynamics/phaseflow-fenics"
   ]
  },
  {
   "cell_type": "markdown",
   "metadata": {},
   "source": [
    "|Nomenclature||\n",
    "|------------|-|\n",
    "|$\\mathbf{x}$| point in the spatial domain|\n",
    "|$t$| time |\n",
    "|$p = p(\\mathbf{x},t)$| pressure field |\n",
    "|$\\mathbf{u} = \\mathbf{u}(\\mathbf{x},t)$| velocity vector field |\n",
    "|$T = T(\\mathbf{x},t)$| temperature field |\n",
    "|$\\phi$ | solid volume fraction |\n",
    "|$()_t = \\frac{\\partial}{\\partial t}()$| time derivative |\n",
    "|$T_r$| central temperature of the regularization |\n",
    "|$r$| smoothing parameter of the regularization |\n",
    "|$\\mu$| constant dynamic viscosity of the fluid|\n",
    "|$\\mathbf{f}_B(T)$| temperature-dependent buoyancy force|\n",
    "|$\\mathrm{Pr}$ | Prandtl number|\n",
    "|$\\mathrm{Ra}$ | Rayleigh number|\n",
    "|$\\mathrm{Ste}$| Stefan number|\n",
    "|$\\Omega$| spatial domain |\n",
    "|$\\mathbf{w} = \\begin{pmatrix} p \\\\ \\mathbf{u} \\\\ T \\end{pmatrix}$| system solution|\n",
    "|$\\mathbf{W}$| mixed finite element function space |\n",
    "|$\\boldsymbol{\\psi} = \\begin{pmatrix} \\psi_p \\\\ \\boldsymbol{\\psi}_u \\\\ \\psi_T \\end{pmatrix} $| mixed finite element basis functions|\n",
    "|$\\gamma$| penalty method stabilization parameter|\n",
    "|$T_h$| hot boundary temperature |\n",
    "|$T_c$| cold boundary temperature |\n",
    "|$\\Delta t$| time step size |\n",
    "|$\\Omega_h$| discrete spatial domain, i.e. the mesh |\n",
    "|$M$| goal functional |\n",
    "|$\\epsilon_M$| error tolerance for goal-oriented AMR |"
   ]
  },
  {
   "cell_type": "markdown",
   "metadata": {},
   "source": [
    "## Governing equations"
   ]
  },
  {
   "cell_type": "markdown",
   "metadata": {},
   "source": [
    "To model convection-coupled melting, we employ the system composed of the unsteady incompressible Navier-Stokes-Boussinesq equations and a enthalpy convection-diffusion equation, scaled for unit Reynolds Number as explained in [5], as\n",
    "\n",
    "$$\\begin{aligned}  \\nabla \\cdot \\mathbf{u} &= 0  \\\\\n",
    "    \\mathbf{u}_t + \\left( \\mathbf{u}\\cdot\\nabla\\right)\\mathbf{u} + \\nabla p - 2\\nabla \\cdot \\left(\\mu(\\phi)\\mathbf{D}(\\mathbf{u})\\right) + \\mathbf{f}_B(T) &=0  \\\\ \n",
    "    T_t + \\mathbf{u}\\cdot\\nabla T - \\frac{1}{\\mathrm{Pr}}\\Delta T - \\frac{1}{\\mathrm{Ste}}\\phi_t &=0 \\end{aligned}$$\n",
    "\n",
    "where  $\\mathbf{D}(\\mathbf{u}) = \\mathrm{sym}(\\mathbf{u}) = \\frac{1}{2}\\left(\\nabla \\mathbf{u} +  \\left( \\nabla \\mathbf{u} \\right)^{\\mathrm{T}} \\right)$ is the Newtonian fluid's rate of strain tensor and the regularized semi-phase-field (representing the solid volume fraction) is \n",
    "\n",
    "$$\\begin{aligned} \\phi(T) = \\frac{1}{2}\\left(1 + \\tanh{\\frac{T_r - T}{r}} \\right) \\end{aligned}$$"
   ]
  },
  {
   "cell_type": "markdown",
   "metadata": {},
   "source": [
    "## Imports"
   ]
  },
  {
   "cell_type": "code",
   "execution_count": 2,
   "metadata": {},
   "outputs": [],
   "source": [
    "import numpy as np\n",
    "import pyvista\n",
    "from mpi4py import MPI\n",
    "from petsc4py import PETSc\n",
    "\n",
    "from dolfinx.fem import (Constant, dirichletbc, Function, FunctionSpace, assemble_scalar,\n",
    "                         form, locate_dofs_geometrical, locate_dofs_topological, Expression )\n",
    "from dolfinx.fem.petsc import LinearProblem\n",
    "from dolfinx.io import XDMFFile\n",
    "from dolfinx.plot import create_vtk_mesh\n",
    "\n",
    "from dolfinx import mesh, fem, log\n",
    "\n",
    "import dolfinx.nls.petsc\n",
    "\n",
    "from ufl import (SpatialCoordinate, TestFunction, TrialFunction,\n",
    "                 dx, grad, inner)\n",
    "\n",
    "from ufl import (FacetNormal, FiniteElement, Identity,TestFunction, TrialFunction, VectorElement,\n",
    "div, dot, ds, dx, inner, lhs, nabla_grad, rhs, sym, derivative)\n",
    "\n",
    "import ufl\n"
   ]
  },
  {
   "cell_type": "markdown",
   "metadata": {},
   "source": [
    "## Initial mesh"
   ]
  },
  {
   "cell_type": "markdown",
   "metadata": {},
   "source": [
    "Define a coarse mesh on the unit square and refine it near the hot wall where there will be an initial layer of melt."
   ]
  },
  {
   "cell_type": "code",
   "execution_count": 4,
   "metadata": {},
   "outputs": [],
   "source": [
    "N=3\n",
    "\n",
    "domain = mesh.create_unit_square(MPI.COMM_WORLD,N, N,cell_type=mesh.CellType.triangle)\n",
    "\n",
    "#Left hand side wall\n",
    "def HotWall(x):\n",
    "    return np.logical_and(np.logical_and(np.isclose(x[1], 1) , x[0]>0.2), x[0]<0.8)\n",
    "\n",
    "initial_hot_wall_refinement_cycles = 6\n",
    "\n",
    "for cycle in range(initial_hot_wall_refinement_cycles):\n",
    "\n",
    "    #Facets on the hot wall\n",
    "    hot_wall = mesh.locate_entities_boundary(domain,domain.topology.dim-1,  HotWall) \n",
    "\n",
    "    domain = mesh.refine(domain, hot_wall, redistribute=False)"
   ]
  },
  {
   "cell_type": "markdown",
   "metadata": {},
   "source": [
    "Visualize the mesh"
   ]
  },
  {
   "cell_type": "code",
   "execution_count": 3,
   "metadata": {},
   "outputs": [
    {
     "data": {
      "application/vnd.jupyter.widget-view+json": {
       "model_id": "40ce260c2a684a2580719bb61684c686",
       "version_major": 2,
       "version_minor": 0
      },
      "text/plain": [
       "Widget(value=\"<iframe src='http://localhost:51951/index.html?ui=P_0x29ad047d0_0&reconnect=auto' style='width: …"
      ]
     },
     "metadata": {},
     "output_type": "display_data"
    }
   ],
   "source": [
    "plotter = pyvista.Plotter(notebook=\"true\")\n",
    "\n",
    "\n",
    "vtkdata = create_vtk_mesh(domain, domain.topology.dim)\n",
    "grid = pyvista.UnstructuredGrid(*vtkdata)\n",
    "actor = plotter.add_mesh(grid, show_edges=True)\n",
    "plotter.view_xy()\n",
    "plotter.show()\n",
    "plotter.close()"
   ]
  },
  {
   "cell_type": "markdown",
   "metadata": {},
   "source": [
    "### Mixed finite element function space, test functions, and solution functions\n"
   ]
  },
  {
   "cell_type": "markdown",
   "metadata": {},
   "source": [
    "Make the mixed finite element. We choose pressure and velocity subspaces analagous to the Taylor-Hood (i.e. P2P1) mixed element, but we extend this further with a P1 element for the temperature."
   ]
  },
  {
   "cell_type": "code",
   "execution_count": 12,
   "metadata": {},
   "outputs": [],
   "source": [
    "P2 = ufl.VectorElement(\"Lagrange\", domain.ufl_cell(), 2)\n",
    "P1 = ufl.FiniteElement(\"Lagrange\", domain.ufl_cell(), 1)\n",
    "TH = ufl.MixedElement([P1, P2, P1])\n",
    "\n",
    "#P2 is a vector element to account for velocity\n",
    "#P1 is a scalar element to account for pressure and temperature\n",
    "t =1341\n",
    "a =123\n",
    "W = FunctionSpace(domain, TH)"
   ]
  },
  {
   "cell_type": "markdown",
   "metadata": {},
   "source": [
    "Make the system solution function $\\mathbf{w} \\in \\mathbf{W}$ and obtain references to its components $p$, $\\mathbf{u}$, and $T$."
   ]
  },
  {
   "cell_type": "code",
   "execution_count": 5,
   "metadata": {},
   "outputs": [],
   "source": [
    "w = Function(W)\n",
    "p, u, T = w.split() #split values into pressure velocity and Tempearture"
   ]
  },
  {
   "cell_type": "markdown",
   "metadata": {},
   "source": [
    "Set constant Prandtl, Rayleigh, and Stefan numbers for the convection-coupled melting benchmark in [5] and [6]. For each we define a Constant for use in the variational form so that FEniCS can more efficiently compile the finite element code."
   ]
  },
  {
   "cell_type": "code",
   "execution_count": 6,
   "metadata": {},
   "outputs": [],
   "source": [
    "prandtl_number = 56.2\n",
    "\n",
    "Pr = Constant(domain,PETSc.ScalarType(prandtl_number))\n",
    "\n",
    "rayleigh_number = 3.27e5\n",
    "\n",
    "Ra = Constant(domain,PETSc.ScalarType(rayleigh_number))\n",
    "\n",
    "stefan_number = 0.045\n",
    "\n",
    "Ste = Constant(domain,PETSc.ScalarType(stefan_number))"
   ]
  },
  {
   "cell_type": "markdown",
   "metadata": {},
   "source": [
    "Define the idealized linear Boussinesq buoyancy, scaled according to [5]\n",
    "\n",
    "$$\\begin{aligned} \\mathbf{f}_B(T) = \\frac{\\mathrm{Ra}}{\\mathrm{Pr}} T\\begin{pmatrix} 0 \\\\ -1 \\end{pmatrix}. \\end{aligned}$$"
   ]
  },
  {
   "cell_type": "code",
   "execution_count": 7,
   "metadata": {},
   "outputs": [],
   "source": [
    "f_B = Ra/Pr*T*Constant(domain,PETSc.ScalarType([0., -1.]))"
   ]
  },
  {
   "cell_type": "markdown",
   "metadata": {},
   "source": [
    "Set the regularized semi-phase-field with a central temperature $T_r$ and smoothing parameter $r$."
   ]
  },
  {
   "cell_type": "code",
   "execution_count": 8,
   "metadata": {},
   "outputs": [],
   "source": [
    "regularization_central_temperature = 0.01\n",
    "\n",
    "T_r = Constant(domain,PETSc.ScalarType(regularization_central_temperature))\n",
    "\n",
    "regularization_smoothing_parameter = 0.025\n",
    "\n",
    "r = Constant(domain,PETSc.ScalarType(regularization_smoothing_parameter))\n",
    "\n",
    "tanh = ufl.tanh\n",
    "\n",
    "def phi(T):\n",
    "    \n",
    "    return 0.5*(1. + tanh((T_r - T)/r))"
   ]
  },
  {
   "cell_type": "markdown",
   "metadata": {},
   "source": [
    "Set the phase-dependent dynamic viscosity"
   ]
  },
  {
   "cell_type": "code",
   "execution_count": 9,
   "metadata": {},
   "outputs": [],
   "source": [
    "liquid_dynamic_viscosity = 1.\n",
    "\n",
    "mu_L = Constant(domain,PETSc.ScalarType(liquid_dynamic_viscosity))\n",
    "\n",
    "\n",
    "solid_dynamic_viscosity = 1.e8\n",
    "\n",
    "mu_S = Constant(domain,PETSc.ScalarType(solid_dynamic_viscosity))\n",
    "\n",
    "def mu(phi):\n",
    "    \n",
    "     return mu_L + (mu_S - mu_L)*phi"
   ]
  },
  {
   "cell_type": "markdown",
   "metadata": {},
   "source": [
    "Furthermore the benchmark problem involves hot and cold walls with constant temperatures $T_h$ and $T_c$, respectively."
   ]
  },
  {
   "cell_type": "code",
   "execution_count": 10,
   "metadata": {},
   "outputs": [],
   "source": [
    "hot_wall_temperature = 1.\n",
    "\n",
    "T_h = Constant(domain,PETSc.ScalarType(hot_wall_temperature))\n",
    "\n",
    "cold_wall_temperature = -0.01\n",
    "\n",
    "T_c = Constant(domain,PETSc.ScalarType(cold_wall_temperature))"
   ]
  },
  {
   "cell_type": "code",
   "execution_count": 11,
   "metadata": {},
   "outputs": [],
   "source": [
    "hot_wall_temperature = 1.\n",
    "\n",
    "T_h = Constant(domain,PETSc.ScalarType(hot_wall_temperature))\n",
    "\n",
    "cold_wall_temperature = -0.01\n",
    "\n",
    "T_c = Constant(domain,PETSc.ScalarType(cold_wall_temperature))"
   ]
  },
  {
   "cell_type": "markdown",
   "metadata": {},
   "source": [
    "## Time discretization\n",
    "\n",
    "To solve the initial value problem, we will prescribe the initial values, and then take discrete steps forward in time which solve the governing equations.\n",
    "\n",
    "We set the initial values such that a small layer of melt already exists touching the hot wall.\n",
    "\n",
    "\\begin{align*} p^0 &= 0 \\\\ \\mathbf{u}^0 &= \\mathbf{0} \\\\ T^0 &= \\begin{cases} T_h, && x_0 < x_{m,0} \\\\ T_c, && \\mathrm{otherwise} \\end{cases} \\end{align*}"
   ]
  },
  {
   "cell_type": "markdown",
   "metadata": {},
   "source": [
    "Interpolate these values to create the initial solution function"
   ]
  },
  {
   "cell_type": "code",
   "execution_count": 12,
   "metadata": {},
   "outputs": [],
   "source": [
    "initial_melt_thickness = 1./2.**(initial_hot_wall_refinement_cycles - 1)\n",
    "x_m = Constant(domain,PETSc.ScalarType(initial_melt_thickness))\n",
    "\n",
    "\n",
    "\n",
    "\n",
    "def InitialTempExp(x):\n",
    "    \n",
    "    return ((hot_wall_temperature-cold_wall_temperature)*(x[1]>1-initial_melt_thickness) * np.logical_and(x[0]>0.2, x[0]<0.8))+cold_wall_temperature\n",
    "\n",
    "\n",
    "w_n = Function(W)\n",
    "p_n, u_n, T_n = w_n.split()\n",
    "\n",
    "T_n.interpolate(InitialTempExp)"
   ]
  },
  {
   "cell_type": "code",
   "execution_count": 13,
   "metadata": {},
   "outputs": [
    {
     "name": "stderr",
     "output_type": "stream",
     "text": [
      "WARNING:py.warnings:/var/folders/2d/bm7xqs8d1fg55jssqgvc9j7c0000gn/T/ipykernel_10108/3285249235.py:12: MatplotlibDeprecationWarning: The get_cmap function was deprecated in Matplotlib 3.7 and will be removed two minor releases later. Use ``matplotlib.colormaps[name]`` or ``matplotlib.colormaps.get_cmap(obj)`` instead.\n",
      "  viridis = plt.cm.get_cmap(\"viridis\", 25)\n",
      "\n"
     ]
    },
    {
     "data": {
      "application/vnd.jupyter.widget-view+json": {
       "model_id": "3e4444b056534084a17cb81535c02a3b",
       "version_major": 2,
       "version_minor": 0
      },
      "text/plain": [
       "Widget(value=\"<iframe src='http://localhost:51951/index.html?ui=P_0x2a94fed10_0&reconnect=auto' style='width: …"
      ]
     },
     "metadata": {},
     "output_type": "display_data"
    }
   ],
   "source": [
    "import matplotlib.pyplot as plt\n",
    "#dummy function space for plotting\n",
    "W_dummy = FunctionSpace(domain, (\"Lagrange\", 1))\n",
    "cells, types, x = create_vtk_mesh(W_dummy)\n",
    "\n",
    "grid = pyvista.UnstructuredGrid(cells, types, x)\n",
    "\n",
    "grid.point_data[\"T\"] = T_n.collapse().x.array\n",
    "\n",
    "plotter = pyvista.Plotter(notebook=\"true\")\n",
    "\n",
    "viridis = plt.cm.get_cmap(\"viridis\", 25)\n",
    "\n",
    "sargs = dict(title_font_size=25, label_font_size=20, fmt=\"%.2e\", color=\"black\",\n",
    "             position_x=0.25, position_y=.9, width=0.5, height=0.1)\n",
    "\n",
    "warped = grid.warp_by_scalar(\"T\", factor=0)\n",
    "\n",
    "renderer = plotter.add_mesh(warped, show_edges=True, lighting=False,\n",
    "                            cmap=viridis, scalar_bar_args=sargs,\n",
    "                            clim=[0, max( T_n.collapse().x.array)])\n",
    "\n",
    "actor = plotter.add_mesh(grid, show_edges=True)\n",
    "plotter.view_xy()\n",
    "plotter.show()\n"
   ]
  },
  {
   "cell_type": "markdown",
   "metadata": {},
   "source": [
    "For the time derivative terms $\\mathbf{u}_t$, $T_t$, and $\\phi_t$, we apply the first-order implicit Euler finite difference time discretization, i.e.\n",
    "\n",
    "\\begin{align*} \\mathbf{u}_t = \\frac{\\mathbf{u}^{n+1} - \\mathbf{u}^n}{\\Delta t} \\\\ T_t = \\frac{T^{n+1} - T^n}{\\Delta t} \\\\ \\phi_t = \\frac{\\phi^{n+1} - \\phi^n}{\\Delta t} \\end{align*}"
   ]
  },
  {
   "cell_type": "markdown",
   "metadata": {},
   "source": [
    "Note\n",
    "For our implementation, we will use the shorthand $\\mathbf{w} = \\mathbf{w}^{n+1}$\n",
    "Choose a time step size and set the time derivative terms."
   ]
  },
  {
   "cell_type": "code",
   "execution_count": 14,
   "metadata": {},
   "outputs": [],
   "source": [
    "psi_p, psi_u, psi_T = ufl.TestFunctions(W)\n",
    "\n",
    "\n",
    "#u_n is the previous solution essentially\n",
    "Timestep_size = 10.\n",
    "\n",
    "Delta_t = Constant(domain,PETSc.ScalarType(Timestep_size))\n",
    "\n",
    "u_t = (u - u_n)/Delta_t\n",
    "\n",
    "T_t = (T - T_n)/Delta_t\n",
    "\n",
    "phi_t = (phi(T) - phi(T_n))/Delta_t"
   ]
  },
  {
   "cell_type": "markdown",
   "metadata": {},
   "source": [
    "### Nonlinear variational form"
   ]
  },
  {
   "cell_type": "markdown",
   "metadata": {},
   "source": [
    "\n",
    "We can write the nonlinear system of equations as\n",
    "\n",
    "$$\\begin{aligned} \\mathbf{F}(\\mathbf{w}) = \\mathbf{0} \\end{aligned}$$\n",
    "\n",
    "\n",
    "To obtain the finite element weak form, we follow the standard Ritz-Galerkin method extended for mixed finite elements [1]. Therefore, we multiply the system from the left by test functions $\\boldsymbol{\\psi}$ from the mixed finite element function space $\\mathbf{W}$ and integrate over the spatial domain $\\Omega$. This gives us the variational problem: Find \n",
    "$\\mathbf{w} \\in \\mathbf{W}$ such that\n",
    "\n",
    "$$\\begin{aligned} \\mathcal{F}(\\boldsymbol{\\psi};\\mathbf{w}) = \\int_\\Omega \\boldsymbol{\\psi}^\\mathrm{T} \\mathbf{F}(\\mathbf{w}) d\\mathbf{x} = 0 \\quad \\forall \\boldsymbol{\\psi} \\in \\mathbf{W} \\end{aligned}$$\n",
    "\n",
    "\n",
    "Integrating $\\mathcal{F}$ by parts yields\n",
    "\n",
    "$$\\begin{aligned} \\mathcal{F}(\\boldsymbol{\\psi};\\mathbf{w}) = -(\\psi_p,\\nabla\\cdot\\mathbf{u}) \\\\ + (\\boldsymbol{\\psi}_u, \\mathbf{u}_t + \\nabla\\mathbf{u}\\cdot\\mathbf{u} + \\mathbf{f}_B(T)) (\\nabla\\cdot\\boldsymbol{\\psi}_u,p) + 2\\mu(\\mathbf{D}(\\boldsymbol{\\psi}_u),\\mathbf{D}(\\mathbf{u})) \\\\ + (\\psi_T,T_t - \\frac{1}{Ste}\\phi_t) + (\\nabla \\psi_T, \\frac{1}{\\mathrm{Pr}}\\nabla T - T\\mathbf{u}) \\end{aligned}$$\n",
    "\n",
    "\n",
    "Note\n",
    "We denote integrating inner products over the domain as $(v,u) = \\int_\\Omega v u d \\mathbf{x}$ or $(\\mathbf{v},\\mathbf{u}) = \\int_\\Omega \\mathbf{v} \\cdot \\mathbf{u} d \\mathbf{x}$.\n",
    "\n",
    "By default FEniCS will numerically integrate with an exact quadrature rule. For this particular problem, this yields a large enough number of quadrature points that FEniCS throws a warning. Let's choose a lower degree quadrature, which will greatly speed up the finite element matrix assembly."
   ]
  },
  {
   "cell_type": "code",
   "execution_count": 15,
   "metadata": {},
   "outputs": [],
   "source": [
    "dxs = ufl.dx(metadata={'quadrature_degree': 8})"
   ]
  },
  {
   "cell_type": "markdown",
   "metadata": {},
   "source": [
    "Define the nonlinear variational form $\\mathcal{F}$."
   ]
  },
  {
   "cell_type": "code",
   "execution_count": 16,
   "metadata": {},
   "outputs": [],
   "source": [
    "\n",
    "    \n",
    "mass = -psi_p*div(u)\n",
    "\n",
    "momentum = dot(psi_u, u_t + dot(grad(u), u) + f_B) - div(psi_u)*p \\\n",
    "    + 2.*mu(phi(T))*inner(sym(grad(psi_u)), sym(grad(u)))\n",
    "\n",
    "enthalpy = psi_T*(T_t - 1./Ste*phi_t) + dot(grad(psi_T), 1./Pr*grad(T) - T*u)\n",
    "#momentum + enthalpy  \n",
    "F = (mass+momentum + enthalpy)*dxs"
   ]
  },
  {
   "cell_type": "markdown",
   "metadata": {},
   "source": [
    "We add a penalty method stabilization term $-\\gamma(\\psi_p,p)$, setting the stabilization parameter $\\gamma = 10^{-7}$ as done in [5]."
   ]
  },
  {
   "cell_type": "code",
   "execution_count": 17,
   "metadata": {},
   "outputs": [],
   "source": [
    "penalty_stabilization_parameter = 1.e-7\n",
    "\n",
    "gamma = Constant(domain,PETSc.ScalarType(penalty_stabilization_parameter))\n",
    "\n",
    "#F += -psi_p*gamma*p*dxs"
   ]
  },
  {
   "cell_type": "markdown",
   "metadata": {},
   "source": [
    "### Linearization\n"
   ]
  },
  {
   "cell_type": "markdown",
   "metadata": {},
   "source": [
    "Notice that $\\mathcal{F}$ is a nonlinear variational form. FEniCS will solve the nonlinear problem using Newton's method. This requires computing the Jacobian (formally the Gâteaux derivative) of the nonlinear variational form, yielding a a sequence of linearized problems whose solutions may converge to approximate the nonlinear solution.\n",
    "\n",
    "We could manually define the Jacobian; but thankfully FEniCS can do this for us.\n",
    "\n",
    "Note\n",
    "When solving linear variational problems in FEniCS, one defines the linear variational form using fenics.TrialFunction instead of fenics.Function (while both approaches will need fenics.TestFunction). When solving nonlinear variational problems with FEniCS, we only need fenics.TrialFunction to define the linearized problem, since it is the linearized problem which will be assembled into a linear system and solved."
   ]
  },
  {
   "cell_type": "code",
   "execution_count": 18,
   "metadata": {},
   "outputs": [],
   "source": [
    "q = TrialFunction(W)\n",
    "JF = derivative(F, w, q)"
   ]
  },
  {
   "cell_type": "markdown",
   "metadata": {},
   "source": [
    "### Boundary conditions"
   ]
  },
  {
   "cell_type": "markdown",
   "metadata": {},
   "source": [
    "We need boundary conditions before we can define a nonlinear variational problem (i.e. in this case a boundary value problem).\n",
    "\n",
    "We physically consider no slip velocity boundary conditions for all boundaries. These manifest as homogeneous Dirichlet boundary conditions. For the temperature boundary conditions, we consider a constant hot temperature on the left wall, a constant cold temperature on the right wall, and adiabatic (i.e. zero heat transfer) conditions on the top and bottom walls. Because the problem's geometry is simple, we can identify the boundaries with the following piece-wise function.\n",
    "\n",
    "\\begin{align*} T(\\mathbf{x}) &= \\begin{cases} T_h , && x_0 = 0 \\\\ T_c , && x_0 = 1 \\end{cases} \\end{align*}"
   ]
  },
  {
   "cell_type": "code",
   "execution_count": 19,
   "metadata": {},
   "outputs": [],
   "source": [
    "def HotWall1(x):\n",
    "    return np.isclose(x[1], 1)\n",
    "\n",
    "def ColdWall1(x):\n",
    "     return np.isclose(x[1], 0)\n",
    "\n",
    "def AdiabaticWall(x):\n",
    "     return np.logical_or(np.isclose(x[0], 0),np.isclose(x[0], 1))\n",
    "\n",
    "\n",
    "def walls(x):\n",
    "    return  np.logical_or(np.logical_or(HotWall1(x),ColdWall1(x)),AdiabaticWall(x))"
   ]
  },
  {
   "cell_type": "markdown",
   "metadata": {},
   "source": [
    "Define the boundary conditions on the appropriate subspaces."
   ]
  },
  {
   "cell_type": "code",
   "execution_count": 20,
   "metadata": {},
   "outputs": [],
   "source": [
    "W_u,_ = W.sub(1).collapse()\n",
    "\n",
    "W_T,_ = W.sub(2).collapse()\n",
    "u_0 = fem.Function(W_u)\n",
    "u_0.x.array[:] = 0\n",
    "\n",
    "hotwall = fem.locate_dofs_geometrical((W.sub(2),W_T), HotWall1)\n",
    "coldwall = locate_dofs_geometrical((W.sub(2),W_T), ColdWall1)\n",
    "ZeroVelocity = locate_dofs_geometrical((W.sub(1),W_u) , walls)\n",
    "\n",
    "\n",
    "boundary_conditions = [\n",
    "    #dirichletbc(u_0, ZeroVelocity , W.sub(1))\n",
    "    #dirichletbc(PETSc.ScalarType(hot_wall_temperature), hotwall[0], W.sub(2)),\n",
    "    #dirichletbc(PETSc.ScalarType(cold_wall_temperature), coldwall[0] ,W.sub(2))]\n",
    "]"
   ]
  },
  {
   "cell_type": "code",
   "execution_count": 21,
   "metadata": {},
   "outputs": [],
   "source": [
    "problem = fem.petsc.NonlinearProblem(F, w, boundary_conditions, JF)"
   ]
  },
  {
   "cell_type": "markdown",
   "metadata": {},
   "source": [
    "### Goal-oriented adaptive mesh refinement (AMR)"
   ]
  },
  {
   "cell_type": "markdown",
   "metadata": {},
   "source": [
    "We wish to solve the problem with adaptive mesh refinement (AMR). For this it helps to explain that we have already defined the discrete nonlinear variational problem using FEniCS: Find $\\mathbf{w}_h \\in \\mathbf{W}_h \\subset \\mathbf{W}(\\Omega)$ such that"
   ]
  },
  {
   "cell_type": "markdown",
   "metadata": {},
   "source": [
    "\\begin{align*} \\mathcal{F}(\\boldsymbol{\\psi}_h;\\mathbf{w}_h) = 0 \\quad \\forall \\boldsymbol{\\psi}_h \\in \\mathbf{W}_h \\subset \\mathbf{W} \\end{align*}"
   ]
  },
  {
   "cell_type": "markdown",
   "metadata": {},
   "source": [
    "Given this, goal-oriented AMR poses the problem: Find $\\mathbf{W}_h \\subset \\mathbf{W}(\\Omega)$ and $\\mathbf{w}_h \\in \\mathbf{W}_h$ such that\n",
    "\n",
    "$$\\begin{aligned} \\left| M(\\mathbf{w}) - M(\\mathbf{w}_h) \\right| < \\epsilon_M \\end{aligned}$$\n",
    "where $M$ is some goal functional of the solution which we integrate over the domain, and where $\\epsilon_M$ is a prescribed tolerance. Note that since we do not know the exact solution $\\mathbf{w}$, this method requires an error estimator. This is detailed in [2]. For our purposes, we only need to define $M$ and $\\epsilon_M$.\n",
    "\n",
    "We choose a goal analagous to the melting rate."
   ]
  },
  {
   "cell_type": "markdown",
   "metadata": {},
   "source": [
    "\\begin{align*} M = \\int_\\Omega \\phi_t \\hspace{1mm} d\\mathbf{x} \\end{align*}"
   ]
  },
  {
   "cell_type": "code",
   "execution_count": 22,
   "metadata": {},
   "outputs": [],
   "source": [
    "M = phi_t*dxs"
   ]
  },
  {
   "cell_type": "markdown",
   "metadata": {},
   "source": [
    "Let's set the tolerance somewhat arbitrarily. For real problems of scientific or engineering interest, one might have accuracy requirements which could help drive this decision."
   ]
  },
  {
   "cell_type": "code",
   "execution_count": 23,
   "metadata": {},
   "outputs": [],
   "source": [
    "epsilon_M = 4.e-5"
   ]
  },
  {
   "cell_type": "markdown",
   "metadata": {},
   "source": []
  },
  {
   "cell_type": "code",
   "execution_count": 24,
   "metadata": {},
   "outputs": [],
   "source": [
    "solver = dolfinx.nls.petsc.NewtonSolver(MPI.COMM_WORLD, problem)\n",
    "solver.convergence_criterion = \"incremental\"\n",
    "solver.rtol = 1e-6\n",
    "solver.report = True"
   ]
  },
  {
   "cell_type": "markdown",
   "metadata": {},
   "source": [
    "We can modify the linear solver in each Newton iteration by accessing the underlying PETSc object.\n",
    "\n"
   ]
  },
  {
   "cell_type": "code",
   "execution_count": 25,
   "metadata": {},
   "outputs": [],
   "source": [
    "ksp = solver.krylov_solver\n",
    "opts = PETSc.Options()\n",
    "option_prefix = ksp.getOptionsPrefix()\n",
    "opts[f\"{option_prefix}ksp_type\"] = \"cg\"\n",
    "opts[f\"{option_prefix}pc_type\"] = \"gamg\"\n",
    "opts[f\"{option_prefix}pc_factor_mat_solver_type\"] = \"mumps\"\n",
    "ksp.setFromOptions()"
   ]
  },
  {
   "cell_type": "markdown",
   "metadata": {},
   "source": [
    "We are now ready to solve the non-linear problem. We assert that the solver has converged and print the number of iterations."
   ]
  },
  {
   "cell_type": "code",
   "execution_count": null,
   "metadata": {},
   "outputs": [
    {
     "ename": "",
     "evalue": "",
     "output_type": "error",
     "traceback": [
      "\u001b[1;31mThe Kernel crashed while executing code in the the current cell or a previous cell. Please review the code in the cell(s) to identify a possible cause of the failure. Click <a href='https://aka.ms/vscodeJupyterKernelCrash'>here</a> for more info. View Jupyter <a href='command:jupyter.viewOutput'>log</a> for further details."
     ]
    }
   ],
   "source": [
    "log.set_log_level(log.LogLevel.INFO)\n",
    "n, converged = solver.solve(w)\n",
    "print(f\"Number of interations: {n:d}\")"
   ]
  }
 ],
 "metadata": {
  "kernelspec": {
   "display_name": "FEM",
   "language": "python",
   "name": "python3"
  },
  "language_info": {
   "codemirror_mode": {
    "name": "ipython",
    "version": 3
   },
   "file_extension": ".py",
   "mimetype": "text/x-python",
   "name": "python",
   "nbconvert_exporter": "python",
   "pygments_lexer": "ipython3",
   "version": "3.11.2"
  },
  "orig_nbformat": 4
 },
 "nbformat": 4,
 "nbformat_minor": 2
}
